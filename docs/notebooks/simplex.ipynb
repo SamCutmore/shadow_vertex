{
 "cells": [
  {
   "cell_type": "code",
   "execution_count": null,
   "id": "ca7b689d-9ace-48cf-aeb7-318ac0402a29",
   "metadata": {},
   "outputs": [],
   "source": []
  }
 ],
 "metadata": {
  "kernelspec": {
   "display_name": "",
   "name": ""
  },
  "language_info": {
   "name": ""
  }
 },
 "nbformat": 4,
 "nbformat_minor": 5
}
